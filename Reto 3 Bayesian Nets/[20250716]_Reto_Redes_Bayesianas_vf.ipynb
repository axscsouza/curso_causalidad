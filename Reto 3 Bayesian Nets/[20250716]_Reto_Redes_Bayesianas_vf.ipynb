{
 "cells": [
  {
   "cell_type": "code",
   "execution_count": null,
   "metadata": {
    "colab": {
     "base_uri": "https://localhost:8080/"
    },
    "id": "MR9caRaiUMcJ",
    "outputId": "eaccf976-bf55-421e-fac2-fedd3f589a7e"
   },
   "outputs": [],
   "source": [
    "#!pip install pyagrum"
   ]
  },
  {
   "cell_type": "code",
   "execution_count": null,
   "metadata": {
    "id": "ZgOGpi5nhUjQ"
   },
   "outputs": [],
   "source": [
    "import pyagrum as gum\n",
    "import pyagrum.lib.notebook as gnb\n",
    "import pandas as pd\n",
    "from IPython.display import display, HTML"
   ]
  },
  {
   "cell_type": "markdown",
   "metadata": {
    "id": "2sDAE4VSmoAe"
   },
   "source": [
    "# Utilizarás los siguientes archivos:\n",
    "\n",
    "1.   alarm.bif  \n",
    "2.   dic_alarm.csv"
   ]
  },
  {
   "cell_type": "markdown",
   "metadata": {},
   "source": [
    "- El archivo .bif es un archivo tipo **\"Bayesian Interchange Format\"**, el cual es un formato estándar basado en texto para almacenar y compartir Redes Bayesianas. En este archivo viene ya la red Bayesiana.\n",
    "- el .csv trae información de cada variable con los siguientes campos: nombre, descripción, clase ('Evidencia', 'Alarma', 'Variable Inferida')"
   ]
  },
  {
   "cell_type": "code",
   "execution_count": null,
   "metadata": {
    "id": "JO-90gIfizpH"
   },
   "outputs": [],
   "source": [
    "# Cargamos la Red Bayesiana\n",
    "bn = gum.loadBN(\"alarm.bif\") \n"
   ]
  },
  {
   "cell_type": "code",
   "execution_count": null,
   "metadata": {
    "colab": {
     "base_uri": "https://localhost:8080/"
    },
    "id": "aWOvyB63cdEI",
    "outputId": "8faab431-8170-473c-e6b6-1c8b3be5e67e"
   },
   "outputs": [],
   "source": [
    "# Vemos las variables y su descripción\n",
    "variables = pd.read_csv('dic_alarm.csv',\n",
    "                        usecols = ['id','nombre','descripcion','categorias','clase'],\n",
    "                        index_col = ['id'])\n",
    "variables"
   ]
  },
  {
   "cell_type": "markdown",
   "metadata": {
    "id": "gYny3B3qnE80"
   },
   "source": [
    "# Exploración de la Red Bayesiana"
   ]
  },
  {
   "cell_type": "markdown",
   "metadata": {},
   "source": [
    "#### 1. ¿Cuántas variables y dependencias entre variables hay en la red?"
   ]
  },
  {
   "cell_type": "code",
   "execution_count": null,
   "metadata": {
    "colab": {
     "base_uri": "https://localhost:8080/"
    },
    "id": "ka6xOZ1OkuWX",
    "outputId": "ca3f8c58-5b63-42ed-ca41-5092344f5bea"
   },
   "outputs": [],
   "source": []
  },
  {
   "cell_type": "markdown",
   "metadata": {},
   "source": [
    "#### 2. Muestra la estructura de la Red Bayesiana"
   ]
  },
  {
   "cell_type": "code",
   "execution_count": null,
   "metadata": {
    "colab": {
     "base_uri": "https://localhost:8080/",
     "height": 1000
    },
    "id": "qotG_9CtlsSC",
    "outputId": "5401b26e-c6f3-403e-9da1-0a7a78c7ef5c"
   },
   "outputs": [],
   "source": []
  },
  {
   "cell_type": "markdown",
   "metadata": {},
   "source": [
    "#### 3. ¿Cuáles son las variables clasificadas como \"Alarma\"?"
   ]
  },
  {
   "cell_type": "code",
   "execution_count": null,
   "metadata": {
    "colab": {
     "base_uri": "https://localhost:8080/",
     "height": 331
    },
    "id": "maeuC7Xyhkiu",
    "outputId": "e678006a-3667-410f-d371-f56e250fb5b9"
   },
   "outputs": [],
   "source": []
  },
  {
   "cell_type": "markdown",
   "metadata": {},
   "source": [
    "#### 4. ¿Cuál es la probabilidad de tener insuficiencia ventricular izquierda (LVFAILURE)?"
   ]
  },
  {
   "cell_type": "code",
   "execution_count": null,
   "metadata": {
    "colab": {
     "base_uri": "https://localhost:8080/",
     "height": 86
    },
    "id": "997NQOh-7Hun",
    "outputId": "afde93b2-9073-43b7-9ff0-efd6dfd9cd8e"
   },
   "outputs": [],
   "source": []
  },
  {
   "cell_type": "markdown",
   "metadata": {},
   "source": [
    "#### 5. La presión de enclavamiento capilar pulmonar (PCWP), también conocida como presión de cuña pulmonar, es una medición hemodinámica que estima la presión en la aurícula izquierda y la presión diastólica final del ventrículo izquierdo.\n",
    "\n",
    "#### Considerando el siguiente cuadro clínico:\n",
    "- presión venosa central baja (CVP = LOW) y\n",
    "- presión de enclavamiento capilar pulmonar baja (PCWP = LOW),\n",
    "\n",
    "#### ¿Cuál es la probabilidad de tener insuficiencia ventricular izquierda (LVFAILURE)?"
   ]
  },
  {
   "cell_type": "code",
   "execution_count": null,
   "metadata": {},
   "outputs": [],
   "source": []
  },
  {
   "cell_type": "markdown",
   "metadata": {},
   "source": [
    "#### 6. ¿Te hace sentido el resultado anterior? Justifica tu respuesta."
   ]
  },
  {
   "cell_type": "code",
   "execution_count": null,
   "metadata": {},
   "outputs": [],
   "source": []
  },
  {
   "cell_type": "markdown",
   "metadata": {},
   "source": [
    "#### 7. ¿Cuál es la probabilidad de tener hipovolemia (HYPOVOLEMIA)?\n",
    "Nota:  La hipovolemia es una afección en la que hay una disminución del volumen de sangre circulante en el cuerpo"
   ]
  },
  {
   "cell_type": "code",
   "execution_count": null,
   "metadata": {},
   "outputs": [],
   "source": []
  },
  {
   "cell_type": "markdown",
   "metadata": {},
   "source": [
    "#### 8. Considerando el siguiente cuadro clínico:\n",
    "- presión venosa central alta (CVP = HIGH)\n",
    "- presión de enclavamiento capilar pulmonar alta (PCWP = HIGH),\n",
    "- presión arterial baja (BP=LOW)\n",
    "- 'output cardiaco' bajo (CO=LOW)\n",
    "\n",
    "#### ¿Cuál es la prababilidad de padecer hipovolemia?"
   ]
  },
  {
   "cell_type": "code",
   "execution_count": null,
   "metadata": {
    "colab": {
     "base_uri": "https://localhost:8080/",
     "height": 102
    },
    "id": "W3xC92MCoVfd",
    "outputId": "513fdac8-5706-4b7e-d6ce-e5b63ff58475"
   },
   "outputs": [],
   "source": []
  },
  {
   "cell_type": "markdown",
   "metadata": {},
   "source": [
    "#### 9. ¿Cómo interpretas el primer valor de 0.98 de la siguiente tabla? (ejecuta el código para mostrar la tabla)"
   ]
  },
  {
   "cell_type": "code",
   "execution_count": null,
   "metadata": {},
   "outputs": [],
   "source": [
    "## bn es la red bayesiana que guardamos al ejecutar:  bn = gum.loadBN(\"alarm.bif\") \n",
    "bn.cpt(bn.idFromName('BP'))"
   ]
  },
  {
   "cell_type": "code",
   "execution_count": null,
   "metadata": {},
   "outputs": [],
   "source": []
  }
 ],
 "metadata": {
  "colab": {
   "name": "Redes Bayesianas_alertas médicas.ipynb",
   "provenance": []
  },
  "kernelspec": {
   "display_name": "Python 3 (ipykernel)",
   "language": "python",
   "name": "python3"
  },
  "language_info": {
   "codemirror_mode": {
    "name": "ipython",
    "version": 3
   },
   "file_extension": ".py",
   "mimetype": "text/x-python",
   "name": "python",
   "nbconvert_exporter": "python",
   "pygments_lexer": "ipython3",
   "version": "3.11.9"
  }
 },
 "nbformat": 4,
 "nbformat_minor": 4
}
