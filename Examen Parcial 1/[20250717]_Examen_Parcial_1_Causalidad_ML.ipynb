{
 "cells": [
  {
   "cell_type": "markdown",
   "metadata": {
    "id": "hgEmb_cnj3hK"
   },
   "source": [
    "## 1. Introducción\n",
    "Analizaremos  de nuevo el experimento de **bono para el reempleo** de Pensilvania, PERO SOBRE UN GRUPO DE TRATAMIENTO DISTINTO. Este fue llevado acabo en la década de 1980 por el Departamento de Trabajo de los Estados Unidos con el objetivo de evaluar cuál es el efecto de incentivar a las personas desempleadas con diferentes esquemas de compensación para acelerar su búsqueda de trabajo y con ello  disminuir las solicitudes al seguro de desempleo."
   ]
  },
  {
   "cell_type": "markdown",
   "metadata": {
    "id": "W14kmIIhlH6T"
   },
   "source": [
    "## 2. Diseño del experimento\n",
    "Durante la fase inicial se construyeron diferentes grupos, los cuales fueron seleccionados de forma aleatoria:\n",
    "\n",
    "- **Grupo Control:** Personas deseempleadas que reclamaron el seguro y que recibieron un trato tradicional sin incentivos.\n",
    "- **Grupo experimental:** Personas desempleadas, que reclamaron el seguro, y que se les ofreció un incentivo económico (bono) en caso de encontrar un empleo en un rango de tiempo específico (periodo); siempre y cuando también se mantuviera el empleo durante una duración específica.\n",
    "\n",
    "El grupo experimental está conformado por varios subgrupos, los cuales se diferenciaron en 3 aspectos clave:\n",
    "- Monto del bono ofrecido.\n",
    "- Duración del periodo para encontrar empleo.\n",
    "- Si el bono disminuía o no progresivamente, dependiendo del período que tomaba encontrar empleo.\n",
    "- Si se le ofrece o no un taller para encontrar empleo.\n",
    "\n",
    "Lo anterior construye un total de 6 subgrupos experimentales que pueden contrastarse con el grupo control.\n",
    "\n",
    "En esta ocasión **nos concentraremos sólo en el grupo experimental \"T2\"(treatment 2)**, el cual comparado con el grupo control, podemos resumirlo en la siguiente tabla:\n",
    "\n",
    "| Grupo           | Monto del bono    | Tiempo de búsqueda (periodo) | ¿Se impartió un taller? |\n",
    "|------------------|-----------------|-----------------------|----------------|\n",
    "| 0 (Grupo Control)| 0 (No aplica)               | 0 (No aplica)                     | No             |\n",
    "| 2 (Grupo Experimental)      | Bajo           | Largo                  | Si            |\n",
    "\n",
    "Los datos los encuentras en el csv adjunto de nombre **\"experiment.csv\".**"
   ]
  },
  {
   "cell_type": "markdown",
   "metadata": {},
   "source": [
    "### El objetivo es estimar el efecto del tratamiento en la duración del desempleo"
   ]
  },
  {
   "cell_type": "markdown",
   "metadata": {
    "id": "4uINI3153iKc"
   },
   "source": [
    "### 2.1 Lectura y entendimiento de la información"
   ]
  },
  {
   "cell_type": "code",
   "execution_count": null,
   "metadata": {
    "id": "TbMpn-lEqE0g"
   },
   "outputs": [],
   "source": [
    "# Importamos las librerias necesarias\n",
    "import pandas as pd\n",
    "import os\n",
    "import statsmodels.formula.api as smf\n",
    "import statsmodels.api as sm\n",
    "from sklearn.linear_model import LogisticRegression\n",
    "import numpy as np\n",
    "import patsy\n",
    "import seaborn as sns\n",
    "import matplotlib.pyplot as plt\n",
    "from sklearn.metrics import roc_auc_score"
   ]
  },
  {
   "cell_type": "code",
   "execution_count": null,
   "metadata": {
    "id": "nkLtSr1UqE7E"
   },
   "outputs": [],
   "source": [
    "# Cargamos la información de la fuente de datos del experimento\n",
    "Penn = pd.read_csv('experiment.csv',sep=',')\n",
    "\n",
    "# Filtramos y nos quedamos con los grupos que nos interesan, donde:\n",
    "# Control: 0\n",
    "# Experimental: 2\n",
    "Penn = Penn[ (Penn['tg'] == 2) | (Penn['tg'] == 0) ]\n",
    "\n",
    "# Transformamos nuestra variable del grupo experimental al target\n",
    "Penn['T2'] = (Penn[['tg']]==2).astype(int)\n",
    "\n",
    "# Creamos variable categorica para dep\n",
    "Penn['dep'] = Penn['dep'].astype( 'category' )\n",
    "Penn.head()\n"
   ]
  },
  {
   "cell_type": "code",
   "execution_count": null,
   "metadata": {
    "colab": {
     "base_uri": "https://localhost:8080/"
    },
    "id": "sK8TWV-krKHP",
    "outputId": "85f5d475-5365-48a2-a33f-14aaf349881b"
   },
   "outputs": [],
   "source": [
    "# Columnas de la tabla\n",
    "Penn.columns"
   ]
  },
  {
   "cell_type": "markdown",
   "metadata": {
    "id": "0rJfg_o1so1v"
   },
   "source": [
    "La tabla contiene 23 variables (columnas), las cuales se describen de la siguiente manera:\n",
    "\n",
    "- **abdt:** Representa el tiempo cronológico de inscripción de cada participante en el experimento.\n",
    "\n",
    "- **tg:** Indica el grupo experimental al que pertenece cada participante.\n",
    "  - Si tg = 0, el participante está en el grupo de control.\n",
    "  - Si tg = 1, el participante está en el grupo 1, y así sucesivamente.\n",
    "\n",
    "- **inuidur1:** Mide la duración (en semanas) del primer período de desempleo.\n",
    "\n",
    "- **inuidur2:** Otra medida de la duración (en semanas) del primer período de desempleo. Esta variable no fue utilizada en el análisis.\n",
    "\n",
    "- **female:** Variable dummy que indica el sexo del participante. Toma el valor de 1 si el participante es mujer, y 0 si es hombre.\n",
    "\n",
    "- **black:** Variable dummy que indica si el participante es de raza negra (1 = sí, 0 = no).\n",
    "\n",
    "- **hispanic:** Variable dummy que indica si el participante es de origen hispano (1 = sí, 0 = no).\n",
    "\n",
    "- **othrace:** Variable dummy que indica si el participante pertenece a otra raza (no blanca, no negra y no hispana; 1 = sí, 0 = no).\n",
    "\n",
    "- **dep:** Número de dependientes de cada participante.\n",
    "  - Si el participante tiene 2 o más dependientes, toma el valor de 2.\n",
    "  - De lo contrario, será 0 o 1, según corresponda.\n",
    "\n",
    "- **q1 - q6:** Seis variables dummy que indican el trimestre del experimento en el cual se inscribió cada participante.\n",
    "\n",
    "- **recall:** Toma el valor de 1 si el participante respondió \"sí\" cuando se le preguntó si esperaba ser reincorporado a su empleo anterior.\n",
    "\n",
    "- **agelt35:** Toma el valor de 1 si la edad del participante es menor a 35 años, y 0 en caso contrario.\n",
    "\n",
    "- **agegt54:** Toma el valor de 1 si la edad del participante es mayor a 54 años, y 0 en caso contrario.\n",
    "\n",
    "- **durable:** Toma el valor de 1 si la ocupación del participante se encontraba en el sector de manufactura de bienes duraderos, y 0 en caso contrario.\n",
    "\n",
    "- **nondurable:** Toma el valor de 1 si la ocupación del participante se encontraba en el sector de manufactura de bienes no duraderos, y 0 en caso contrario.\n",
    "\n",
    "- **lusd:** Toma el valor de 1 si el participante presentó su reclamo en las ciudades de Coatesville, Reading o Lancaster, y 0 en caso contrario. Estas áreas se caracterizan por tasas bajas de desempleo y períodos cortos de desempleo.\n",
    "\n",
    "- **husd:** Toma el valor de 1 si el participante presentó su reclamo en las ciudades deLewistown, Pittston o Scranton, y 0 en caso contrario. Estas áreas se caracterizan por tasas altas de desempleo y períodos cortos de desempleo.\n",
    "\n",
    "- **muld:** Toma el valor de 1 si el participante presentó su reclamo en las ciudades de Philadelphia-North, Philadelphia-Uptown, McKeesport, Erie o Butler, y 0 en caso contrario. Estas áreas se caracterizan por tasas moderadas de desempleo y períodos largos de desempleo."
   ]
  },
  {
   "cell_type": "markdown",
   "metadata": {
    "id": "T4BHnUAjwltk",
    "jp-MarkdownHeadingCollapsed": true
   },
   "source": [
    "En nuestro análisis consideraremos modelos de regresión de la forma:\n",
    "$$\n",
    "Y = D \\alpha_1 + W \\beta + \\epsilon\n",
    "$$\n",
    "\n",
    "Donde:\n",
    "\n",
    "- $Y$ : Es el **logaritmo natural** de la duración del desempleo (*inuidur1*). Se aplica para estandarizar los tiempos de desemplo e interpretar mejor los resultados y comparaciones. \n",
    "- $D$: Es un indicador de tratamiento, que señala si un individuo pertenece a un grupo de tratamiento específico. En nuestro caso seria 1 (variable T2) si una persona pertenece al grupo experimental y 0 en caso de no ser asi.\n",
    "-$W$: Es el vector de variables restantes que incluye:\n",
    "  - Variables dummy para los grupos de edad.\n",
    "  - Género.\n",
    "  - Raza.\n",
    "  - Número de dependientes.\n",
    "  - Trimestre del experimento.\n",
    "  - Localización dentro del estado.\n",
    "  - Existencia de expectativas de reincorporación al empleo.\n",
    "  - Tipo de ocupación.\n",
    "- $\\alpha_1$: No confundir con un coeficiente de la regresion común, este representa el efecto promedio de aplicar el tratamiento a la población experimental.\n",
    "- $\\beta$: Son  todos los demás coeficientes de regresión, es decir, los pesos que se le asigna a cada variable en funcion de $Y$\n",
    "- ϵ: Es el término de error aleatorio.\n"
   ]
  },
  {
   "cell_type": "markdown",
   "metadata": {},
   "source": [
    "### 3. Análisis"
   ]
  },
  {
   "cell_type": "markdown",
   "metadata": {},
   "source": [
    "##### Usa la función LogisticRegression(), como vimos en clase, para ajustar una regresión logística y ver si la asignación al tratamiento \"depende\" de las covariables. Para ello considera la siguiente formulación de predictoras y variable respuesta:"
   ]
  },
  {
   "cell_type": "code",
   "execution_count": null,
   "metadata": {
    "id": "higCztbheVNa"
   },
   "outputs": [],
   "source": [
    "X_logit = patsy.dmatrix(\"\"\"(female + black + othrace + C(dep) + q2 + q3 + q4 +\n",
    "                      q5 + q6 + agelt35 + agegt54 + durable + lusd + husd)**2 - 1\"\"\",\n",
    "                  data=Penn, return_type='dataframe')\n",
    "y_logit = Penn[\"T2\"]\n"
   ]
  },
  {
   "cell_type": "markdown",
   "metadata": {},
   "source": [
    "- a) ¿Cuál es el valor del área bajo la curva ROC (AUC) del modelo de regresión logística? ¿Qué puedes decir acerca de este valor específico?\n",
    "- b) Grafica la distribución de la \"propensity score\" en ambos grupos: control y tratamiento. ¿Qué observas?\n",
    "- c) Ajusta un modelo \"simple\" de la forma\n",
    "$$\n",
    "Y = D \\alpha_1 + \\epsilon\n",
    "$$\n",
    "- d) ¿Cuál es el valor estimado del efecto causal en este modelo y cómo lo interpretas?\n",
    "- e) ¿Consideras pertinente ajustar un modelo incluyendo las covariables W? Justifica tu respuesta. En caso afirmativo, ejecuta el modelo:\n",
    "$$\n",
    "Y = D \\alpha_1 + W \\beta + \\epsilon\n",
    "$$\n",
    "\n",
    "- f) ¿Cuál es el valor estimado del efecto causal en este modelo y cómo lo interpretas?\n",
    "- g) Explica a qué se debe la diferencia entre la magnitud del efecto causal estimado en d) vs el estimado en f).\n",
    "- h) ¿Qué diagnósticos adicionales propondrías para asegurar la confiabilidad de tus estimaciones?"
   ]
  },
  {
   "cell_type": "code",
   "execution_count": 1,
   "metadata": {},
   "outputs": [],
   "source": [
    "# Nota: puedes pasarla a ols las siguientes fórmulas en el parámetro formula:\n",
    "# formula_lr = \"np.log(inuidur1) ~ T2\"\n",
    "# formula_lr = \"\"\"np.log(inuidur1) ~ T2 + female + black + othrace + C(dep) +\n",
    "#                  q2 + q3 + q4 + q5 + q6 + agelt35 + agegt54 + durable + lusd + husd\"\"\""
   ]
  }
 ],
 "metadata": {
  "colab": {
   "provenance": []
  },
  "kernelspec": {
   "display_name": "Python 3 (ipykernel)",
   "language": "python",
   "name": "python3"
  },
  "language_info": {
   "codemirror_mode": {
    "name": "ipython",
    "version": 3
   },
   "file_extension": ".py",
   "mimetype": "text/x-python",
   "name": "python",
   "nbconvert_exporter": "python",
   "pygments_lexer": "ipython3",
   "version": "3.11.9"
  }
 },
 "nbformat": 4,
 "nbformat_minor": 4
}
